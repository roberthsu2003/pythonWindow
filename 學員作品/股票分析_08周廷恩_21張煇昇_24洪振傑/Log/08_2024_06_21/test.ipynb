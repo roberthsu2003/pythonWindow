{
 "cells": [
  {
   "cell_type": "code",
   "execution_count": null,
   "metadata": {},
   "outputs": [],
   "source": [
    "import requests\n",
    "import datetime as dt # 時間套件\n",
    "import pandas as pd\n",
    "from dateutil.relativedelta import relativedelta\n",
    "\n",
    "stock_id = '1101'\n",
    "\n",
    "month_num=6\n",
    "# 當日時間\n",
    "date_now = dt.datetime.now()\n",
    "\n",
    "# 建立日期串列\n",
    "date_list = [(date_now - relativedelta(months=i)).replace(day=1).\\\n",
    "             strftime('%Y%m%d') for i in range(month_num)]\n",
    "date_list.reverse()\n",
    "\n",
    "data:dict={}\n",
    "\n"
   ]
  },
  {
   "cell_type": "code",
   "execution_count": 6,
   "metadata": {},
   "outputs": [
    {
     "name": "stdout",
     "output_type": "stream",
     "text": [
      "{}\n",
      "{}\n",
      "{}\n",
      "{}\n",
      "{}\n",
      "{}\n"
     ]
    }
   ],
   "source": [
    "\n",
    "# 使用迴圈抓取連續月份資料\n",
    "for date in date_list:\n",
    "    url = f'https://www.twse.com.tw/rwd/zh/afterTrading/\\\n",
    "        STOCK_DAY?date={date}&stockNo={stock_id}'\n",
    "    try:\n",
    "        json_data = requests.get(url).json()\n",
    "\n",
    "        df = pd.DataFrame(data=json_data['data'],\n",
    "                        columns=json_data['fields'])\n",
    "        print(data)\n",
    "    except Exception as e:\n",
    "        print(f\"無法取得{date}的資料, 可能資料量不足.\")\n",
    "    \n"
   ]
  }
 ],
 "metadata": {
  "kernelspec": {
   "display_name": "venv1",
   "language": "python",
   "name": "python3"
  },
  "language_info": {
   "codemirror_mode": {
    "name": "ipython",
    "version": 3
   },
   "file_extension": ".py",
   "mimetype": "text/x-python",
   "name": "python",
   "nbconvert_exporter": "python",
   "pygments_lexer": "ipython3",
   "version": "3.12.3"
  }
 },
 "nbformat": 4,
 "nbformat_minor": 2
}

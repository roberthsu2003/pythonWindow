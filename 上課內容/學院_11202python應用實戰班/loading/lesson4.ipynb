{
 "cells": [
  {
   "cell_type": "code",
   "execution_count": 1,
   "metadata": {},
   "outputs": [],
   "source": [
    "import requests\n",
    "headers = {\n",
    "    'user-agent': 'Mozilla/5.0 (Macintosh; Intel Mac OS X 11_1_0) AppleWebKit/537.36 (KHTML, like Gecko) Chrome/87.0.4280.141 Safari/537.36'\n",
    "}\n",
    "res = requests.get(\"https://goodinfo.tw/StockInfo/StockBzPerformance.asp?STOCK_ID=2330\",headers = headers)\n",
    "res.encoding = 'utf-8'"
   ]
  },
  {
   "cell_type": "code",
   "execution_count": 4,
   "metadata": {},
   "outputs": [],
   "source": [
    "from bs4 import BeautifulSoup\n",
    "import re\n",
    "soup = BeautifulSoup(res.text,'html.parser')\n",
    "data = soup.find('div',{'id':'txtFinDetailData'}).find_all('tr',{'align':'center'})\n",
    "import csv\n",
    "csvFile = open('台積電.csv','w+')\n",
    "try:\n",
    "    writer = csv.writer(csvFile)\n",
    "    writer.writerow(['年度','股本(億)','財報評分','收盤','平均','漲跌','漲跌(%)','營業收入',\n",
    "                     '營業毛利','營業利益','業外損益','稅後淨利','營業毛利','營業利益','業外損益',\n",
    "                     '稅後淨利','ROE(%)','ROA(%)','稅後EPS','EPS年增(元)','BPS(元)'])\n",
    "    for item in data:\n",
    "        tdList = item.find_all('td')\n",
    "        tdRow = [td.get_text() for td in tdList]\n",
    "        writer.writerow(tdRow)\n",
    "finally:\n",
    "    csvFile.close()"
   ]
  }
 ],
 "metadata": {
  "kernelspec": {
   "display_name": "venv",
   "language": "python",
   "name": "python3"
  },
  "language_info": {
   "codemirror_mode": {
    "name": "ipython",
    "version": 3
   },
   "file_extension": ".py",
   "mimetype": "text/x-python",
   "name": "python",
   "nbconvert_exporter": "python",
   "pygments_lexer": "ipython3",
   "version": "3.10.6"
  },
  "orig_nbformat": 4
 },
 "nbformat": 4,
 "nbformat_minor": 2
}

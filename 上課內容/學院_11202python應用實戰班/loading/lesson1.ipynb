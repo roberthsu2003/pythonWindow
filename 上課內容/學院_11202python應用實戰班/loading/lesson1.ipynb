{
 "cells": [
  {
   "cell_type": "code",
   "execution_count": null,
   "metadata": {},
   "outputs": [],
   "source": [
    "import requests\n",
    "url = \"https://api.github.com/events\"\n",
    "try:\n",
    "    response = requests.request('GET',url)\n",
    "except:\n",
    "    print(\"連線出錯了\")\n",
    "    \n",
    "\n"
   ]
  },
  {
   "cell_type": "code",
   "execution_count": null,
   "metadata": {},
   "outputs": [],
   "source": [
    "import requests\n",
    "url = \"https://api.github.com/events\"\n",
    "headers  ={\n",
    "    'user-agent':'Mozilla/5.0 (Macintosh; Intel Mac OS X 10_15_7) AppleWebKit/537.36 (KHTML, like Gecko) Chrome/112.0.0.0 Safari/537.36'\n",
    "}\n",
    "\n",
    "try:\n",
    "    response = requests.request('GET',url,headers = headers)\n",
    "    response.raise_for_status()\n",
    "except requests.ConnectionError:\n",
    "    print(\"連線錯誤\")\n",
    "except requests.HTTPError:\n",
    "    print(\"http錯誤\")\n",
    "except requests.RequestException:\n",
    "    print(\"RequestException\")\n",
    "except:\n",
    "    print(\"出錯了\")\n",
    "\n",
    "#print(response.content)\n",
    "print(response.text)\n",
    "    "
   ]
  }
 ],
 "metadata": {
  "kernelspec": {
   "display_name": "venv",
   "language": "python",
   "name": "python3"
  },
  "language_info": {
   "codemirror_mode": {
    "name": "ipython",
    "version": 3
   },
   "file_extension": ".py",
   "mimetype": "text/x-python",
   "name": "python",
   "nbconvert_exporter": "python",
   "pygments_lexer": "ipython3",
   "version": "3.10.6"
  },
  "orig_nbformat": 4
 },
 "nbformat": 4,
 "nbformat_minor": 2
}
